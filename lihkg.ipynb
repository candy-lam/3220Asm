{
  "nbformat": 4,
  "nbformat_minor": 0,
  "metadata": {
    "colab": {
      "provenance": [],
      "machine_shape": "hm"
    },
    "kernelspec": {
      "name": "python3",
      "display_name": "Python 3"
    },
    "language_info": {
      "name": "python"
    },
    "gpuClass": "premium",
    "accelerator": "GPU"
  },
  "cells": [
    {
      "cell_type": "code",
      "source": [
        "! pip install keras_bert"
      ],
      "metadata": {
        "id": "lcrMB0oKwtQr"
      },
      "execution_count": null,
      "outputs": []
    },
    {
      "cell_type": "code",
      "source": [
        "import numpy as np\n",
        "import unicodedata\n",
        "from sklearn.metrics import precision_score,recall_score,f1_score\n",
        "from keras_bert import load_trained_model_from_checkpoint, Tokenizer\n",
        "from keras.layers import *\n",
        "from keras.callbacks import *\n",
        "from keras.models import Model\n",
        "from keras.optimizers import Adam\n",
        "from keras.utils import to_categorical\n",
        "import matplotlib.pyplot as plt"
      ],
      "metadata": {
        "id": "kk6C4DnQuuQ0"
      },
      "execution_count": null,
      "outputs": []
    },
    {
      "cell_type": "code",
      "execution_count": null,
      "metadata": {
        "id": "aouXOChRujam",
        "colab": {
          "base_uri": "https://localhost:8080/"
        },
        "outputId": "abb1f10a-f693-467d-a71c-d48e9ccfd43e"
      },
      "outputs": [
        {
          "output_type": "stream",
          "name": "stdout",
          "text": [
            "Mounted at /content/drive\n"
          ]
        },
        {
          "output_type": "stream",
          "name": "stderr",
          "text": [
            "<ipython-input-3-33d1bce8a0fe>:28: VisibleDeprecationWarning: Creating an ndarray from ragged nested sequences (which is a list-or-tuple of lists-or-tuples-or ndarrays with different lengths or shapes) is deprecated. If you meant to do this, you must specify 'dtype=object' when creating the ndarray.\n",
            "  train_data = np.array(train_data)\n",
            "<ipython-input-3-33d1bce8a0fe>:33: VisibleDeprecationWarning: Creating an ndarray from ragged nested sequences (which is a list-or-tuple of lists-or-tuples-or ndarrays with different lengths or shapes) is deprecated. If you meant to do this, you must specify 'dtype=object' when creating the ndarray.\n",
            "  test_data = np.array(test_data)\n",
            "<ipython-input-3-33d1bce8a0fe>:38: VisibleDeprecationWarning: Creating an ndarray from ragged nested sequences (which is a list-or-tuple of lists-or-tuples-or ndarrays with different lengths or shapes) is deprecated. If you meant to do this, you must specify 'dtype=object' when creating the ndarray.\n",
            "  valid_data = np.array(valid_data)\n"
          ]
        }
      ],
      "source": [
        "from google.colab import drive\n",
        "import pickle\n",
        "import pandas as pd\n",
        "\n",
        "# google drive setup\n",
        "drive.mount(\"/content/drive\")\n",
        "path = \"/content/drive/My Drive/FYP/\"\n",
        "\n",
        "# pre-trained model path (bert-base-chinese (google))\n",
        "config_path = path + 'chinese_L-12_H-768_A-12/bert_config.json'\n",
        "checkpoint_path = path + 'chinese_L-12_H-768_A-12/bert_model.ckpt'\n",
        "dict_path = path + 'chinese_L-12_H-768_A-12/vocab.txt'\n",
        "\n",
        "# import datafile\n",
        "train_df = pd.read_csv(path + \"lihkg/posts/train_posts.csv\", names=['genre','content'], skiprows=[0])\n",
        "test_df = pd.read_csv(path + \"lihkg/posts/test_posts.csv\", names=['genre','content'], skiprows=[0])\n",
        "valid_df = pd.read_csv(path + \"lihkg/posts/valid_posts.csv\", names=['genre','content'], skiprows=[0])\n",
        "\n",
        "SEQ_LEN = 512\n",
        "EPOCHS = 10\n",
        "LR = 1e-5\n",
        "BATCH_SIZE = 16\n",
        "\n",
        "# convert data into format for model inputs\n",
        "train_data = []\n",
        "for line in train_df.itertuples():\n",
        "  train_data.append((line.content[:SEQ_LEN-2], to_categorical(int(line.genre), 5)))\n",
        "train_data = np.array(train_data)\n",
        "\n",
        "test_data = []\n",
        "for line in test_df.itertuples():\n",
        "  test_data.append((line.content[:SEQ_LEN-2], to_categorical(int(line.genre), 5)))\n",
        "test_data = np.array(test_data)\n",
        "\n",
        "valid_data = []\n",
        "for line in valid_df.itertuples():\n",
        "  valid_data.append((line.content[:SEQ_LEN-2], to_categorical(int(line.genre), 5)))\n",
        "valid_data = np.array(valid_data)"
      ]
    },
    {
      "cell_type": "code",
      "source": [
        "# build token dictionary\n",
        "with open(dict_path, 'r', encoding='UTF8') as df:\n",
        "  token_dict = {line.strip():index for index, line in enumerate(df)}\n",
        "  \n",
        "# override tokenizer to assure same length after tokenization (as original tokenizer will remove space)\n",
        "class OurTokenizer(Tokenizer):\n",
        "  def _tokenize(self, text):\n",
        "    if not self._cased:\n",
        "      text = unicodedata.normalize('NFD', text)\n",
        "      text = ''.join([ch for ch in text if unicodedata.category(ch) != 'Mn'])\n",
        "      text = text.lower()\n",
        "    spaced = ''\n",
        "    for ch in text:\n",
        "      if self._is_punctuation(ch) or self._is_cjk_character(ch):\n",
        "        spaced += ' ' + ch + ' '\n",
        "      elif self._is_space(ch):\n",
        "        spaced += ' ' +'[unused1]' + ' ' # use [unused1] to represent space\n",
        "      elif ord(ch) == 0 or ord(ch) == 0xfffd or self._is_control(ch):\n",
        "        continue\n",
        "      else: \n",
        "        spaced += ch\n",
        "    tokens = []\n",
        "    for word in spaced.strip().split():\n",
        "      tokens += self._word_piece_tokenize(word)\n",
        "    return tokens\n",
        "\n",
        "tokenizer = OurTokenizer(token_dict, cased=True)"
      ],
      "metadata": {
        "id": "aPyPf6s6sGxT"
      },
      "execution_count": null,
      "outputs": []
    },
    {
      "cell_type": "code",
      "source": [
        "# input dataset and output dataset with padding\n",
        "def text_padding(data, padding=0):\n",
        "  L = [len(d) for d in data]\n",
        "  ML = max(L)\n",
        "  return np.array([np.concatenate([d, [padding] * (ML - len(d))]) if len(d) < ML else d for d in data])\n",
        "\n",
        "# in order to save memory\n",
        "class DataGenerator:\n",
        "  def __init__(self, data, batch_size=BATCH_SIZE, shuffle=True):\n",
        "      self.data = data\n",
        "      self.list_IDs = [idx for idx in range(len(self.data))]\n",
        "      self.batch_size = batch_size\n",
        "      self.shuffle = shuffle\n",
        "      self.steps = len(self.list_IDs) // self.batch_size\n",
        "      if len(self.list_IDs) % self.batch_size > 0: self.steps += 1\n",
        "\n",
        "  # number of batches per epoch (steps)\n",
        "  def __len__(self):\n",
        "    return self.steps\n",
        "\n",
        "  def __iter__(self):\n",
        "    while True:\n",
        "      if self.shuffle:\n",
        "        np.random.shuffle(self.list_IDs)\n",
        "\n",
        "      # generating matrices\n",
        "      X1, X2, Y = [], [], []\n",
        "      for idx in self.list_IDs:\n",
        "        d = self.data[idx]\n",
        "        text = d[0]\n",
        "        indices, segments = tokenizer.encode(first=text)\n",
        "        genre = d[1]\n",
        "        X1.append(indices) # token embeddings\n",
        "        X2.append(segments) # segment embeddings\n",
        "        Y.append([genre]) # category\n",
        "        if len(X1) == self.batch_size or idx == self.list_IDs[-1]:\n",
        "          X1 = text_padding(X1)\n",
        "          X2 = text_padding(X2)\n",
        "          Y = text_padding(Y)\n",
        "          yield [X1, X2], Y[:,0,:]\n",
        "          [X1, X2, Y] = [], [], [] # reset"
      ],
      "metadata": {
        "id": "gkl0zg6wIdd5"
      },
      "execution_count": null,
      "outputs": []
    },
    {
      "cell_type": "code",
      "source": [
        "# sample data\n",
        "'''\n",
        "print('token embedding: ')\n",
        "print(X1_test[0],'\\n')\n",
        "print('segments embedding: ')\n",
        "print(X2_test[0],'\\n')\n",
        "print('genre: ')\n",
        "print(Y_test[0])\n",
        "'''"
      ],
      "metadata": {
        "colab": {
          "base_uri": "https://localhost:8080/"
        },
        "id": "BLGaF7l0UwHY",
        "outputId": "f5061e46-b087-47cc-c498-29bc5a4a1b3a"
      },
      "execution_count": null,
      "outputs": [
        {
          "output_type": "stream",
          "name": "stdout",
          "text": [
            "token embedding: \n",
            "[  101  5654  6205  2511   939   148  8641  6919  7278  3199  6234  6222\n",
            "  1850  3361  7278  3314   888   677  2136  3747  2551  6524   815   100\n",
            "  1645  4506  2199  6724  4077  3021  6721  3021  6222  1850  2767  4922\n",
            "  6721  5214  6207  6281  6524  5681  6524  5681  6207  4698   677  4705\n",
            "  2339  3361  7278  5654   814  3312  6207  2864  2339  1059   815   100\n",
            "  6274  2511   855  2339   676  6715  1755   939   153  5198  5681  3361\n",
            "   815  1645  4684  7945  5681  3361   815  1645  4684   153  6207  2395\n",
            "  6281   751  8558  2339   942 10075  2395  2982  6316  3538  1755  8287\n",
            "  2960  4275  1059  2483  4684  1232  4959  1036   670  2483   975  2418\n",
            "  4196  2526  1043 12322 10706  2483  5861  3017  2952  6316  8849 10788\n",
            "  8409  4533  2768  6340  1645  3361  1367     1  6524  3169  2796     1\n",
            "  3646  1645  2960  1961   942   854  1216   942   164  8782  8153  3017\n",
            "  2952  3306   677   897  2156  2406  7952  8113  1645  8558  2406  1145\n",
            "  7131   781  2395  2982  2339  3299   942  1004  6202  6135  1645   148\n",
            "  8641  8252  8357 12568  9448 12607  5198  5681  3452  6207  6818  7027\n",
            "  6184  6818  1397   153  6340  1645  6302  6281  7945  5681  4635  3021\n",
            "  1962  3361  6524  7945  5681   155   670   815  2238  6135  3188  3188\n",
            "   100  7943  6202   669  6316  6316   677   942 10075  2982  7945  5681\n",
            "  1645  8182   110  2982  5198  5681  1645  8163   102     0     0     0\n",
            "     0     0     0     0     0     0     0     0     0     0     0     0\n",
            "     0     0     0     0     0     0     0     0     0     0     0     0\n",
            "     0     0     0     0] \n",
            "\n",
            "segments embedding: \n",
            "[0 0 0 0 0 0 0 0 0 0 0 0 0 0 0 0 0 0 0 0 0 0 0 0 0 0 0 0 0 0 0 0 0 0 0 0 0\n",
            " 0 0 0 0 0 0 0 0 0 0 0 0 0 0 0 0 0 0 0 0 0 0 0 0 0 0 0 0 0 0 0 0 0 0 0 0 0\n",
            " 0 0 0 0 0 0 0 0 0 0 0 0 0 0 0 0 0 0 0 0 0 0 0 0 0 0 0 0 0 0 0 0 0 0 0 0 0\n",
            " 0 0 0 0 0 0 0 0 0 0 0 0 0 0 0 0 0 0 0 0 0 0 0 0 0 0 0 0 0 0 0 0 0 0 0 0 0\n",
            " 0 0 0 0 0 0 0 0 0 0 0 0 0 0 0 0 0 0 0 0 0 0 0 0 0 0 0 0 0 0 0 0 0 0 0 0 0\n",
            " 0 0 0 0 0 0 0 0 0 0 0 0 0 0 0 0 0 0 0 0 0 0 0 0 0 0 0 0 0 0 0 0 0 0 0 0 0\n",
            " 0 0 0 0 0 0 0 0 0 0 0 0 0 0 0 0 0 0 0 0 0 0 0 0 0 0 0 0 0 0 0 0 0 0] \n",
            "\n",
            "group: \n",
            "[0. 0. 1. 0. 0.]\n"
          ]
        }
      ]
    },
    {
      "cell_type": "code",
      "source": [
        "bert_model = load_trained_model_from_checkpoint(\n",
        "      config_path,\n",
        "      checkpoint_path,\n",
        "      trainable = True,\n",
        "      seq_len = None,)\n",
        "\n",
        "for l in bert_model.layers:\n",
        "  l.trainable = True\n",
        "  \n",
        "x1_in = Input(shape=(None,))\n",
        "x2_in = Input(shape=(None,))\n",
        "\n",
        "x = bert_model([x1_in, x2_in])\n",
        "x = Lambda(lambda x: x[:, 0])(x)\n",
        "p = Dense(5, activation='softmax')(x)\n",
        "\n",
        "model = Model([x1_in, x2_in], p)\n",
        "model.compile(\n",
        "    loss='categorical_crossentropy',\n",
        "    optimizer=Adam(LR),\n",
        "    metrics=['accuracy']\n",
        ")\n",
        "model.summary()\n",
        "\n",
        "train_d = DataGenerator(train_data)\n",
        "valid_d = DataGenerator(valid_data, shuffle=False)\n",
        "\n",
        "checkpoint_filepath = path + 'lihkg/tmp/checkpoint.h5'\n",
        "model_checkpoint_callback = ModelCheckpoint(\n",
        "    filepath=checkpoint_filepath,\n",
        "    save_weights_only=True,\n",
        "    monitor='val_accuracy',\n",
        "    mode='max',\n",
        "    save_best_only=True)\n",
        "\n",
        "try:\n",
        "  model.load_weights(checkpoint_filepath)\n",
        "except:\n",
        "  print(\"Checkpoint not found\")\n",
        "\n",
        "history = model.fit(\n",
        "    train_d.__iter__(),\n",
        "    steps_per_epoch= len(train_d),\n",
        "    epochs=EPOCHS,\n",
        "    validation_data=valid_d.__iter__(),\n",
        "    validation_steps= len(valid_d),\n",
        "    callbacks=[model_checkpoint_callback]\n",
        ")\n",
        "\n"
      ],
      "metadata": {
        "id": "bKmQ-0kJF7p9",
        "colab": {
          "base_uri": "https://localhost:8080/"
        },
        "outputId": "8083c6c2-2045-4207-f4b4-c50311844411"
      },
      "execution_count": null,
      "outputs": [
        {
          "output_type": "stream",
          "name": "stdout",
          "text": [
            "Model: \"model_2\"\n",
            "__________________________________________________________________________________________________\n",
            " Layer (type)                   Output Shape         Param #     Connected to                     \n",
            "==================================================================================================\n",
            " input_1 (InputLayer)           [(None, None)]       0           []                               \n",
            "                                                                                                  \n",
            " input_2 (InputLayer)           [(None, None)]       0           []                               \n",
            "                                                                                                  \n",
            " model_1 (Functional)           (None, None, 768)    101677056   ['input_1[0][0]',                \n",
            "                                                                  'input_2[0][0]']                \n",
            "                                                                                                  \n",
            " lambda (Lambda)                (None, 768)          0           ['model_1[0][0]']                \n",
            "                                                                                                  \n",
            " dense (Dense)                  (None, 5)            3845        ['lambda[0][0]']                 \n",
            "                                                                                                  \n",
            "==================================================================================================\n",
            "Total params: 101,680,901\n",
            "Trainable params: 101,680,901\n",
            "Non-trainable params: 0\n",
            "__________________________________________________________________________________________________\n",
            "Checkpoint not found\n",
            "Epoch 1/10\n",
            "565/565 [==============================] - 159s 234ms/step - loss: 0.9115 - accuracy: 0.6561 - val_loss: 1.2664 - val_accuracy: 0.6041\n",
            "Epoch 2/10\n",
            "565/565 [==============================] - 130s 229ms/step - loss: 0.6429 - accuracy: 0.7654 - val_loss: 1.7229 - val_accuracy: 0.5226\n",
            "Epoch 3/10\n",
            "565/565 [==============================] - 131s 232ms/step - loss: 0.4456 - accuracy: 0.8394 - val_loss: 1.2497 - val_accuracy: 0.6678\n",
            "Epoch 4/10\n",
            "565/565 [==============================] - 127s 225ms/step - loss: 0.2698 - accuracy: 0.9068 - val_loss: 1.5042 - val_accuracy: 0.6510\n",
            "Epoch 5/10\n",
            "565/565 [==============================] - 131s 231ms/step - loss: 0.1466 - accuracy: 0.9528 - val_loss: 1.4286 - val_accuracy: 0.6696\n",
            "Epoch 6/10\n",
            "565/565 [==============================] - 127s 224ms/step - loss: 0.0934 - accuracy: 0.9739 - val_loss: 1.9248 - val_accuracy: 0.6032\n",
            "Epoch 7/10\n",
            "565/565 [==============================] - 128s 226ms/step - loss: 0.0629 - accuracy: 0.9814 - val_loss: 1.8573 - val_accuracy: 0.6298\n",
            "Epoch 8/10\n",
            "565/565 [==============================] - 128s 227ms/step - loss: 0.0440 - accuracy: 0.9882 - val_loss: 2.1807 - val_accuracy: 0.5855\n",
            "Epoch 9/10\n",
            "565/565 [==============================] - 127s 225ms/step - loss: 0.0467 - accuracy: 0.9877 - val_loss: 2.3184 - val_accuracy: 0.5686\n",
            "Epoch 10/10\n",
            "565/565 [==============================] - 133s 236ms/step - loss: 0.0373 - accuracy: 0.9905 - val_loss: 1.7238 - val_accuracy: 0.7112\n"
          ]
        }
      ]
    },
    {
      "cell_type": "code",
      "source": [
        "model.save(path + 'lihkg/saved_model/lihkg_posts_bert_model.h5')"
      ],
      "metadata": {
        "id": "fbHWX56G9yBm"
      },
      "execution_count": null,
      "outputs": []
    },
    {
      "cell_type": "code",
      "source": [
        "X1_test, X2_test, Y_test = [],[],[]\n",
        "list_IDs = [idx for idx in range(len(test_data))]\n",
        "np.random.shuffle(list_IDs)\n",
        "for idx in list_IDs:\n",
        "  i, s = tokenizer.encode(first=test_data[idx][0])\n",
        "  y = test_data[idx][1]\n",
        "  i = i + [0] * (SEQ_LEN - len(i))\n",
        "  s = s + [0] * (SEQ_LEN - len(s))\n",
        "  X1_test.append(i)\n",
        "  X2_test.append(s)\n",
        "  Y_test.append(test_data[idx][1])\n",
        "\n",
        "X1_test = np.asarray(X1_test)\n",
        "X2_test = np.asarray(X2_test)\n",
        "Y_test = np.asarray(Y_test)\n",
        "y_pred = np.round(model.predict([X1_test, X2_test],batch_size=BATCH_SIZE))"
      ],
      "metadata": {
        "colab": {
          "base_uri": "https://localhost:8080/"
        },
        "id": "b_86Lw76Sikf",
        "outputId": "127e971a-72a3-4122-f384-331fc7b0921f"
      },
      "execution_count": null,
      "outputs": [
        {
          "output_type": "stream",
          "name": "stdout",
          "text": [
            "71/71 [==============================] - 6s 80ms/step\n"
          ]
        }
      ]
    },
    {
      "cell_type": "code",
      "source": [
        "print('precision: ', precision_score(Y_test,y_pred, average='weighted'))\n",
        "print('recall: ', recall_score(Y_test,y_pred, average='weighted'))\n",
        "print('f1: ', f1_score(Y_test,y_pred, average='weighted'))"
      ],
      "metadata": {
        "colab": {
          "base_uri": "https://localhost:8080/"
        },
        "id": "Gk_wpsjJNCIe",
        "outputId": "782b31eb-c084-479f-acbb-9a701be12a5a"
      },
      "execution_count": null,
      "outputs": [
        {
          "output_type": "stream",
          "name": "stdout",
          "text": [
            "precision:  0.6625469724190555\n",
            "recall:  0.6731620903454384\n",
            "f1:  0.6658070917315285\n"
          ]
        }
      ]
    },
    {
      "cell_type": "code",
      "source": [
        "# summarize history for accuracy\n",
        "plt.plot(history.history['accuracy'])\n",
        "plt.plot(history.history['val_accuracy'])\n",
        "plt.title('model accuracy')\n",
        "plt.ylabel('accuracy')\n",
        "plt.xlabel('epoch')\n",
        "plt.legend(['train', 'test'], loc='upper left')\n",
        "plt.show()\n",
        "# summarize history for loss\n",
        "plt.plot(history.history['loss'])\n",
        "plt.plot(history.history['val_loss'])\n",
        "plt.title('model loss')\n",
        "plt.ylabel('loss')\n",
        "plt.xlabel('epoch')\n",
        "plt.legend(['train', 'test'], loc='upper left')\n",
        "plt.show()\n"
      ],
      "metadata": {
        "colab": {
          "base_uri": "https://localhost:8080/",
          "height": 573
        },
        "id": "kJKA0RxhA-u1",
        "outputId": "6df5d98c-8cc5-4356-b4f9-eaa402e5fd27"
      },
      "execution_count": null,
      "outputs": [
        {
          "output_type": "display_data",
          "data": {
            "text/plain": [
              "<Figure size 432x288 with 1 Axes>"
            ],
            "image/png": "[encoded data removed]"
          },
          "metadata": {
            "needs_background": "light"
          }
        },
        {
          "output_type": "display_data",
          "data": {
            "text/plain": [
              "<Figure size 432x288 with 1 Axes>"
            ],
            "image/png": "[encoded data removed]"
          },
          "metadata": {
            "needs_background": "light"
          }
        }
      ]
    }
  ]
}